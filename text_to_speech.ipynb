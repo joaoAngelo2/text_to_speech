{
 "cells": [
  {
   "cell_type": "code",
   "execution_count": 2,
   "id": "18040fc4-b28d-484b-bd43-478526239e8f",
   "metadata": {},
   "outputs": [
    {
     "name": "stdout",
     "output_type": "stream",
     "text": [
      "3.10.16 | packaged by Anaconda, Inc. | (main, Dec 11 2024, 16:19:12) [MSC v.1929 64 bit (AMD64)]\n"
     ]
    }
   ],
   "source": [
    "import sys\n",
    "print(sys.version)\n"
   ]
  },
  {
   "cell_type": "code",
   "execution_count": 3,
   "id": "24edbabd-bfb9-45f1-a609-94423e421fdc",
   "metadata": {},
   "outputs": [
    {
     "name": "stdout",
     "output_type": "stream",
     "text": [
      "Collecting pyaudio\n",
      "  Downloading PyAudio-0.2.14-cp310-cp310-win_amd64.whl.metadata (2.7 kB)\n",
      "Downloading PyAudio-0.2.14-cp310-cp310-win_amd64.whl (164 kB)\n",
      "Installing collected packages: pyaudio\n",
      "Successfully installed pyaudio-0.2.14\n"
     ]
    }
   ],
   "source": [
    "!pip install pyaudio\n"
   ]
  },
  {
   "cell_type": "code",
   "execution_count": 4,
   "id": "98e80525-be15-44d6-8ed2-4eae9ba95981",
   "metadata": {},
   "outputs": [
    {
     "name": "stdout",
     "output_type": "stream",
     "text": [
      "Collecting gTTS\n",
      "  Downloading gTTS-2.5.4-py3-none-any.whl.metadata (4.1 kB)\n",
      "Requirement already satisfied: requests<3,>=2.27 in c:\\users\\eucli\\anaconda3\\envs\\sds\\lib\\site-packages (from gTTS) (2.32.3)\n",
      "Collecting click<8.2,>=7.1 (from gTTS)\n",
      "  Downloading click-8.1.8-py3-none-any.whl.metadata (2.3 kB)\n",
      "Requirement already satisfied: colorama in c:\\users\\eucli\\anaconda3\\envs\\sds\\lib\\site-packages (from click<8.2,>=7.1->gTTS) (0.4.6)\n",
      "Requirement already satisfied: charset-normalizer<4,>=2 in c:\\users\\eucli\\anaconda3\\envs\\sds\\lib\\site-packages (from requests<3,>=2.27->gTTS) (3.3.2)\n",
      "Requirement already satisfied: idna<4,>=2.5 in c:\\users\\eucli\\anaconda3\\envs\\sds\\lib\\site-packages (from requests<3,>=2.27->gTTS) (3.7)\n",
      "Requirement already satisfied: urllib3<3,>=1.21.1 in c:\\users\\eucli\\anaconda3\\envs\\sds\\lib\\site-packages (from requests<3,>=2.27->gTTS) (2.3.0)\n",
      "Requirement already satisfied: certifi>=2017.4.17 in c:\\users\\eucli\\anaconda3\\envs\\sds\\lib\\site-packages (from requests<3,>=2.27->gTTS) (2025.1.31)\n",
      "Downloading gTTS-2.5.4-py3-none-any.whl (29 kB)\n",
      "Downloading click-8.1.8-py3-none-any.whl (98 kB)\n",
      "Installing collected packages: click, gTTS\n",
      "Successfully installed click-8.1.8 gTTS-2.5.4\n"
     ]
    }
   ],
   "source": [
    "!pip install gTTS"
   ]
  },
  {
   "cell_type": "code",
   "execution_count": 5,
   "id": "e19c172b-3630-4df1-9bce-32878d6e64d7",
   "metadata": {},
   "outputs": [
    {
     "name": "stdout",
     "output_type": "stream",
     "text": [
      "Collecting SpeechRecognition\n",
      "  Using cached SpeechRecognition-3.14.1-py3-none-any.whl.metadata (31 kB)\n",
      "Requirement already satisfied: typing-extensions in c:\\users\\eucli\\anaconda3\\envs\\sds\\lib\\site-packages (from SpeechRecognition) (4.12.2)\n",
      "Using cached SpeechRecognition-3.14.1-py3-none-any.whl (32.9 MB)\n",
      "Installing collected packages: SpeechRecognition\n",
      "Successfully installed SpeechRecognition-3.14.1\n"
     ]
    }
   ],
   "source": [
    "!pip install SpeechRecognition"
   ]
  },
  {
   "cell_type": "code",
   "execution_count": 7,
   "id": "485ebadb-94fe-40c8-8962-bdacebcc2bc1",
   "metadata": {},
   "outputs": [
    {
     "name": "stdout",
     "output_type": "stream",
     "text": [
      "Collecting wikipedia\n",
      "  Downloading wikipedia-1.4.0.tar.gz (27 kB)\n",
      "  Preparing metadata (setup.py): started\n",
      "  Preparing metadata (setup.py): finished with status 'done'\n",
      "Requirement already satisfied: beautifulsoup4 in c:\\users\\eucli\\anaconda3\\envs\\sds\\lib\\site-packages (from wikipedia) (4.12.3)\n",
      "Requirement already satisfied: requests<3.0.0,>=2.0.0 in c:\\users\\eucli\\anaconda3\\envs\\sds\\lib\\site-packages (from wikipedia) (2.32.3)\n",
      "Requirement already satisfied: charset-normalizer<4,>=2 in c:\\users\\eucli\\anaconda3\\envs\\sds\\lib\\site-packages (from requests<3.0.0,>=2.0.0->wikipedia) (3.3.2)\n",
      "Requirement already satisfied: idna<4,>=2.5 in c:\\users\\eucli\\anaconda3\\envs\\sds\\lib\\site-packages (from requests<3.0.0,>=2.0.0->wikipedia) (3.7)\n",
      "Requirement already satisfied: urllib3<3,>=1.21.1 in c:\\users\\eucli\\anaconda3\\envs\\sds\\lib\\site-packages (from requests<3.0.0,>=2.0.0->wikipedia) (2.3.0)\n",
      "Requirement already satisfied: certifi>=2017.4.17 in c:\\users\\eucli\\anaconda3\\envs\\sds\\lib\\site-packages (from requests<3.0.0,>=2.0.0->wikipedia) (2025.1.31)\n",
      "Requirement already satisfied: soupsieve>1.2 in c:\\users\\eucli\\anaconda3\\envs\\sds\\lib\\site-packages (from beautifulsoup4->wikipedia) (2.5)\n",
      "Building wheels for collected packages: wikipedia\n",
      "  Building wheel for wikipedia (setup.py): started\n",
      "  Building wheel for wikipedia (setup.py): finished with status 'done'\n",
      "  Created wheel for wikipedia: filename=wikipedia-1.4.0-py3-none-any.whl size=11756 sha256=08cb16b1b76fafe12f2a9c30c402e9af6d01f35c0fe0157de022f55ceb115155\n",
      "  Stored in directory: c:\\users\\eucli\\appdata\\local\\pip\\cache\\wheels\\5e\\b6\\c5\\93f3dec388ae76edc830cb42901bb0232504dfc0df02fc50de\n",
      "Successfully built wikipedia\n",
      "Installing collected packages: wikipedia\n",
      "Successfully installed wikipedia-1.4.0\n"
     ]
    }
   ],
   "source": [
    "!pip install wikipedia"
   ]
  },
  {
   "cell_type": "code",
   "execution_count": 9,
   "id": "1bf0c2c9-858d-4747-ab3e-1620eb17d5fb",
   "metadata": {},
   "outputs": [
    {
     "name": "stdout",
     "output_type": "stream",
     "text": [
      "Collecting playsound\n",
      "  Using cached playsound-1.3.0.tar.gz (7.7 kB)\n",
      "  Preparing metadata (setup.py): started\n",
      "  Preparing metadata (setup.py): finished with status 'done'\n",
      "Building wheels for collected packages: playsound\n",
      "  Building wheel for playsound (setup.py): started\n",
      "  Building wheel for playsound (setup.py): finished with status 'done'\n",
      "  Created wheel for playsound: filename=playsound-1.3.0-py3-none-any.whl size=7090 sha256=816534a0dc7de14f9dc7c8980094f80077ceba409aabce10a2464e82fe926d25\n",
      "  Stored in directory: c:\\users\\eucli\\appdata\\local\\pip\\cache\\wheels\\90\\89\\ed\\2d643f4226fc8c7c9156fc28abd8051e2d2c0de37ae51ac45c\n",
      "Successfully built playsound\n",
      "Installing collected packages: playsound\n",
      "Successfully installed playsound-1.3.0\n",
      "Collecting winshell\n",
      "  Using cached winshell-0.6.zip (10 kB)\n",
      "  Preparing metadata (setup.py): started\n",
      "  Preparing metadata (setup.py): finished with status 'done'\n",
      "Building wheels for collected packages: winshell\n",
      "  Building wheel for winshell (setup.py): started\n",
      "  Building wheel for winshell (setup.py): finished with status 'done'\n",
      "  Created wheel for winshell: filename=winshell-0.6-py3-none-any.whl size=9435 sha256=6d360c230c419c83fba5f9b40d4bb316337a1919942c03d47fbc7c5b51644f27\n",
      "  Stored in directory: c:\\users\\eucli\\appdata\\local\\pip\\cache\\wheels\\8c\\8e\\41\\ac1d7f7240465dc73ad1c328aad3082a7afb1ebd8070295945\n",
      "Successfully built winshell\n",
      "Installing collected packages: winshell\n",
      "Successfully installed winshell-0.6\n"
     ]
    }
   ],
   "source": [
    "!pip install playsound\n",
    "!pip install winshell"
   ]
  },
  {
   "cell_type": "code",
   "execution_count": 17,
   "id": "477c4040-6c8a-4eb5-bc61-1d8b9442b626",
   "metadata": {},
   "outputs": [
    {
     "name": "stdout",
     "output_type": "stream",
     "text": [
      "Collecting pygame\n",
      "  Downloading pygame-2.6.1-cp310-cp310-win_amd64.whl.metadata (13 kB)\n",
      "Downloading pygame-2.6.1-cp310-cp310-win_amd64.whl (10.6 MB)\n",
      "   ---------------------------------------- 0.0/10.6 MB ? eta -:--:--\n",
      "   ------ --------------------------------- 1.8/10.6 MB 10.1 MB/s eta 0:00:01\n",
      "   ---------------------- ----------------- 6.0/10.6 MB 15.4 MB/s eta 0:00:01\n",
      "   ---------------------------------------  10.5/10.6 MB 18.2 MB/s eta 0:00:01\n",
      "   ---------------------------------------- 10.6/10.6 MB 16.2 MB/s eta 0:00:00\n",
      "Installing collected packages: pygame\n",
      "Successfully installed pygame-2.6.1\n"
     ]
    }
   ],
   "source": [
    "!pip install pygame"
   ]
  },
  {
   "cell_type": "code",
   "execution_count": 18,
   "id": "609d14d8-ef7c-49f9-82ce-1bf13ad0b14c",
   "metadata": {},
   "outputs": [
    {
     "name": "stdout",
     "output_type": "stream",
     "text": [
      "pygame 2.6.1 (SDL 2.28.4, Python 3.10.16)\n",
      "Hello from the pygame community. https://www.pygame.org/contribute.html\n"
     ]
    }
   ],
   "source": [
    "from gtts import gTTS\n",
    "import os\n",
    "import speech_recognition as sr\n",
    "import wikipedia\n",
    "from datetime import datetime\n",
    "import playsound\n",
    "import webbrowser\n",
    "import pygame"
   ]
  },
  {
   "cell_type": "code",
   "execution_count": 20,
   "id": "efd96037-10f5-4a26-9fe9-0ac08a324d18",
   "metadata": {},
   "outputs": [
    {
     "name": "stdout",
     "output_type": "stream",
     "text": [
      "Estou ouvindo...\n",
      "Ocorreu um erro ao gerar ou reproduzir o áudio: [Errno 13] Permission denied: 'resposta.mp3'\n",
      "Ocorreu um erro ao gerar ou reproduzir o áudio: [Errno 13] Permission denied: 'resposta.mp3'\n",
      "Estou ouvindo...\n",
      "Ocorreu um erro ao gerar ou reproduzir o áudio: [Errno 13] Permission denied: 'resposta.mp3'\n",
      "Ocorreu um erro ao gerar ou reproduzir o áudio: [Errno 13] Permission denied: 'resposta.mp3'\n",
      "Estou ouvindo...\n",
      "Ocorreu um erro ao gerar ou reproduzir o áudio: [Errno 13] Permission denied: 'resposta.mp3'\n",
      "Ocorreu um erro ao gerar ou reproduzir o áudio: [Errno 13] Permission denied: 'resposta.mp3'\n",
      "Estou ouvindo...\n",
      "Ocorreu um erro ao gerar ou reproduzir o áudio: [Errno 13] Permission denied: 'resposta.mp3'\n",
      "Ocorreu um erro ao gerar ou reproduzir o áudio: [Errno 13] Permission denied: 'resposta.mp3'\n",
      "Estou ouvindo...\n",
      "Ocorreu um erro ao gerar ou reproduzir o áudio: [Errno 13] Permission denied: 'resposta.mp3'\n",
      "Estou ouvindo...\n",
      "Ocorreu um erro ao gerar ou reproduzir o áudio: [Errno 13] Permission denied: 'resposta.mp3'\n",
      "Estou ouvindo...\n",
      "Ocorreu um erro ao gerar ou reproduzir o áudio: [Errno 13] Permission denied: 'resposta.mp3'\n",
      "Estou ouvindo...\n",
      "Ocorreu um erro ao gerar ou reproduzir o áudio: [Errno 13] Permission denied: 'resposta.mp3'\n",
      "Ocorreu um erro ao gerar ou reproduzir o áudio: [Errno 13] Permission denied: 'resposta.mp3'\n",
      "Estou ouvindo...\n"
     ]
    },
    {
     "ename": "KeyboardInterrupt",
     "evalue": "",
     "output_type": "error",
     "traceback": [
      "\u001b[1;31m---------------------------------------------------------------------------\u001b[0m",
      "\u001b[1;31mKeyboardInterrupt\u001b[0m                         Traceback (most recent call last)",
      "Cell \u001b[1;32mIn[20], line 81\u001b[0m\n\u001b[0;32m     79\u001b[0m \u001b[38;5;66;03m# Exemplo de uso - loop contínuo\u001b[39;00m\n\u001b[0;32m     80\u001b[0m \u001b[38;5;28;01mwhile\u001b[39;00m \u001b[38;5;28;01mTrue\u001b[39;00m:\n\u001b[1;32m---> 81\u001b[0m     comando \u001b[38;5;241m=\u001b[39m \u001b[43mpegarAudio\u001b[49m\u001b[43m(\u001b[49m\u001b[43m)\u001b[49m\n\u001b[0;32m     82\u001b[0m     \u001b[38;5;28;01mif\u001b[39;00m comando:\n\u001b[0;32m     83\u001b[0m         \u001b[38;5;28;01mif\u001b[39;00m respond(comando):\n",
      "Cell \u001b[1;32mIn[20], line 26\u001b[0m, in \u001b[0;36mpegarAudio\u001b[1;34m()\u001b[0m\n\u001b[0;32m     24\u001b[0m \u001b[38;5;28mprint\u001b[39m(\u001b[38;5;124m\"\u001b[39m\u001b[38;5;124mEstou ouvindo...\u001b[39m\u001b[38;5;124m\"\u001b[39m)\n\u001b[0;32m     25\u001b[0m recognizer\u001b[38;5;241m.\u001b[39madjust_for_ambient_noise(source)  \u001b[38;5;66;03m# Ajusta para ruído ambiente\u001b[39;00m\n\u001b[1;32m---> 26\u001b[0m audio \u001b[38;5;241m=\u001b[39m \u001b[43mrecognizer\u001b[49m\u001b[38;5;241;43m.\u001b[39;49m\u001b[43mlisten\u001b[49m\u001b[43m(\u001b[49m\u001b[43msource\u001b[49m\u001b[43m)\u001b[49m\n\u001b[0;32m     28\u001b[0m \u001b[38;5;28;01mtry\u001b[39;00m:\n\u001b[0;32m     29\u001b[0m     texto \u001b[38;5;241m=\u001b[39m recognizer\u001b[38;5;241m.\u001b[39mrecognize_google(audio, language\u001b[38;5;241m=\u001b[39m\u001b[38;5;124m\"\u001b[39m\u001b[38;5;124mpt-BR\u001b[39m\u001b[38;5;124m\"\u001b[39m)\n",
      "File \u001b[1;32m~\\anaconda3\\envs\\sds\\lib\\site-packages\\speech_recognition\\__init__.py:460\u001b[0m, in \u001b[0;36mRecognizer.listen\u001b[1;34m(self, source, timeout, phrase_time_limit, snowboy_configuration, stream)\u001b[0m\n\u001b[0;32m    458\u001b[0m result \u001b[38;5;241m=\u001b[39m \u001b[38;5;28mself\u001b[39m\u001b[38;5;241m.\u001b[39m_listen(source, timeout, phrase_time_limit, snowboy_configuration, stream)\n\u001b[0;32m    459\u001b[0m \u001b[38;5;28;01mif\u001b[39;00m \u001b[38;5;129;01mnot\u001b[39;00m stream:\n\u001b[1;32m--> 460\u001b[0m     \u001b[38;5;28;01mfor\u001b[39;00m a \u001b[38;5;129;01min\u001b[39;00m result:\n\u001b[0;32m    461\u001b[0m         \u001b[38;5;28;01mreturn\u001b[39;00m a\n\u001b[0;32m    462\u001b[0m \u001b[38;5;28;01mreturn\u001b[39;00m result\n",
      "File \u001b[1;32m~\\anaconda3\\envs\\sds\\lib\\site-packages\\speech_recognition\\__init__.py:492\u001b[0m, in \u001b[0;36mRecognizer._listen\u001b[1;34m(self, source, timeout, phrase_time_limit, snowboy_configuration, stream)\u001b[0m\n\u001b[0;32m    489\u001b[0m \u001b[38;5;28;01mif\u001b[39;00m timeout \u001b[38;5;129;01mand\u001b[39;00m elapsed_time \u001b[38;5;241m>\u001b[39m timeout:\n\u001b[0;32m    490\u001b[0m     \u001b[38;5;28;01mraise\u001b[39;00m WaitTimeoutError(\u001b[38;5;124m\"\u001b[39m\u001b[38;5;124mlistening timed out while waiting for phrase to start\u001b[39m\u001b[38;5;124m\"\u001b[39m)\n\u001b[1;32m--> 492\u001b[0m buffer \u001b[38;5;241m=\u001b[39m \u001b[43msource\u001b[49m\u001b[38;5;241;43m.\u001b[39;49m\u001b[43mstream\u001b[49m\u001b[38;5;241;43m.\u001b[39;49m\u001b[43mread\u001b[49m\u001b[43m(\u001b[49m\u001b[43msource\u001b[49m\u001b[38;5;241;43m.\u001b[39;49m\u001b[43mCHUNK\u001b[49m\u001b[43m)\u001b[49m\n\u001b[0;32m    493\u001b[0m \u001b[38;5;28;01mif\u001b[39;00m \u001b[38;5;28mlen\u001b[39m(buffer) \u001b[38;5;241m==\u001b[39m \u001b[38;5;241m0\u001b[39m: \u001b[38;5;28;01mbreak\u001b[39;00m  \u001b[38;5;66;03m# reached end of the stream\u001b[39;00m\n\u001b[0;32m    494\u001b[0m frames\u001b[38;5;241m.\u001b[39mappend(buffer)\n",
      "File \u001b[1;32m~\\anaconda3\\envs\\sds\\lib\\site-packages\\speech_recognition\\__init__.py:191\u001b[0m, in \u001b[0;36mMicrophone.MicrophoneStream.read\u001b[1;34m(self, size)\u001b[0m\n\u001b[0;32m    190\u001b[0m \u001b[38;5;28;01mdef\u001b[39;00m \u001b[38;5;21mread\u001b[39m(\u001b[38;5;28mself\u001b[39m, size):\n\u001b[1;32m--> 191\u001b[0m     \u001b[38;5;28;01mreturn\u001b[39;00m \u001b[38;5;28;43mself\u001b[39;49m\u001b[38;5;241;43m.\u001b[39;49m\u001b[43mpyaudio_stream\u001b[49m\u001b[38;5;241;43m.\u001b[39;49m\u001b[43mread\u001b[49m\u001b[43m(\u001b[49m\u001b[43msize\u001b[49m\u001b[43m,\u001b[49m\u001b[43m \u001b[49m\u001b[43mexception_on_overflow\u001b[49m\u001b[38;5;241;43m=\u001b[39;49m\u001b[38;5;28;43;01mFalse\u001b[39;49;00m\u001b[43m)\u001b[49m\n",
      "File \u001b[1;32m~\\anaconda3\\envs\\sds\\lib\\site-packages\\pyaudio\\__init__.py:570\u001b[0m, in \u001b[0;36mPyAudio.Stream.read\u001b[1;34m(self, num_frames, exception_on_overflow)\u001b[0m\n\u001b[0;32m    567\u001b[0m \u001b[38;5;28;01mif\u001b[39;00m \u001b[38;5;129;01mnot\u001b[39;00m \u001b[38;5;28mself\u001b[39m\u001b[38;5;241m.\u001b[39m_is_input:\n\u001b[0;32m    568\u001b[0m     \u001b[38;5;28;01mraise\u001b[39;00m \u001b[38;5;167;01mIOError\u001b[39;00m(\u001b[38;5;124m\"\u001b[39m\u001b[38;5;124mNot input stream\u001b[39m\u001b[38;5;124m\"\u001b[39m,\n\u001b[0;32m    569\u001b[0m                   paCanNotReadFromAnOutputOnlyStream)\n\u001b[1;32m--> 570\u001b[0m \u001b[38;5;28;01mreturn\u001b[39;00m \u001b[43mpa\u001b[49m\u001b[38;5;241;43m.\u001b[39;49m\u001b[43mread_stream\u001b[49m\u001b[43m(\u001b[49m\u001b[38;5;28;43mself\u001b[39;49m\u001b[38;5;241;43m.\u001b[39;49m\u001b[43m_stream\u001b[49m\u001b[43m,\u001b[49m\u001b[43m \u001b[49m\u001b[43mnum_frames\u001b[49m\u001b[43m,\u001b[49m\n\u001b[0;32m    571\u001b[0m \u001b[43m                      \u001b[49m\u001b[43mexception_on_overflow\u001b[49m\u001b[43m)\u001b[49m\n",
      "\u001b[1;31mKeyboardInterrupt\u001b[0m: "
     ]
    }
   ],
   "source": [
    "pygame.mixer.init()  # Inicializa o mixer do pygame apenas uma vez\n",
    "\n",
    "def speak(texto):\n",
    "    \"\"\"Converte texto em fala usando gTTS e reproduz o áudio com pygame\"\"\"\n",
    "    try:\n",
    "        tts = gTTS(texto, lang=\"pt-br\")\n",
    "        arquivo_audio = \"resposta.mp3\"\n",
    "        tts.save(arquivo_audio)\n",
    "\n",
    "        pygame.mixer.music.load(arquivo_audio)\n",
    "        pygame.mixer.music.play()\n",
    "\n",
    "        while pygame.mixer.music.get_busy():\n",
    "            pygame.time.Clock().tick(10)\n",
    "\n",
    "        os.remove(arquivo_audio)\n",
    "    except Exception as e:\n",
    "        print(f\"Ocorreu um erro ao gerar ou reproduzir o áudio: {e}\")\n",
    "\n",
    "def pegarAudio():\n",
    "    \"\"\"Captura áudio do microfone e converte para texto.\"\"\"\n",
    "    recognizer = sr.Recognizer()\n",
    "    with sr.Microphone() as source:\n",
    "        print(\"Estou ouvindo...\")\n",
    "        recognizer.adjust_for_ambient_noise(source)  # Ajusta para ruído ambiente\n",
    "        audio = recognizer.listen(source)\n",
    "\n",
    "        try:\n",
    "            texto = recognizer.recognize_google(audio, language=\"pt-BR\")\n",
    "            if texto.strip():\n",
    "                speak(f\"Você disse: {texto}\")\n",
    "                return texto.lower()\n",
    "            else:\n",
    "                speak(\"Não consegui ouvir claramente. Pode repetir?\")\n",
    "                return \"\"\n",
    "        except sr.UnknownValueError:\n",
    "            speak(\"Não entendi o que você disse.\")\n",
    "            return \"\"\n",
    "        except sr.RequestError:\n",
    "            speak(\"Erro na conexão com o serviço de reconhecimento.\")\n",
    "            return \"\"\n",
    "\n",
    "\n",
    "# Função para processar os comandos\n",
    "def respond(text):\n",
    "    if \"horas\" in text:\n",
    "        strTime = datetime.now().strftime(\"%H:%M\")\n",
    "        speak(f\"Agora são {strTime}\")\n",
    "    elif \"wikipedia\" in text:\n",
    "        speak(\"O que você quer pesquisar na Wikipedia?\")\n",
    "        search = pegarAudio()\n",
    "        if search:\n",
    "            results = wikipedia.search(search)\n",
    "            if results:\n",
    "                summary = wikipedia.summary(results[0], sentences=1)\n",
    "                speak(f\"Aqui está o resumo: {summary}\")\n",
    "            else:\n",
    "                speak(\"Não encontrei resultados na Wikipedia.\")\n",
    "        else:\n",
    "            speak(\"Desculpe, não consegui ouvir sua pesquisa.\")\n",
    "    elif \"pesquisar\" in text:\n",
    "        speak(\"O que você quer pesquisar?\")\n",
    "        search = pegarAudio()\n",
    "        if search:\n",
    "            url = f\"https://www.google.com/search?q={search}\"\n",
    "            webbrowser.get().open(url)\n",
    "            speak(f\"Pesquisando por {search} no Google.\")\n",
    "        else:\n",
    "            speak(\"Desculpe, não consegui ouvir sua pesquisa.\")\n",
    "    elif \"parar\" in text or \"sair\" in text:\n",
    "        speak(\"Até logo!\")\n",
    "        return True\n",
    "    else:\n",
    "        speak(\"Desculpe, não entendi o comando.\")\n",
    "    return False\n",
    "\n",
    "import time\n",
    "\n",
    "# Exemplo de uso - loop contínuo\n",
    "while True:\n",
    "    comando = pegarAudio()\n",
    "    if comando:\n",
    "        if respond(comando):\n",
    "            break\n",
    "    time.sleep(1)"
   ]
  },
  {
   "cell_type": "code",
   "execution_count": null,
   "id": "a9159810-e1aa-4950-8a40-e7ff59ce7d82",
   "metadata": {},
   "outputs": [],
   "source": []
  }
 ],
 "metadata": {
  "kernelspec": {
   "display_name": "Python 3 (ipykernel)",
   "language": "python",
   "name": "python3"
  },
  "language_info": {
   "codemirror_mode": {
    "name": "ipython",
    "version": 3
   },
   "file_extension": ".py",
   "mimetype": "text/x-python",
   "name": "python",
   "nbconvert_exporter": "python",
   "pygments_lexer": "ipython3",
   "version": "3.10.16"
  }
 },
 "nbformat": 4,
 "nbformat_minor": 5
}
